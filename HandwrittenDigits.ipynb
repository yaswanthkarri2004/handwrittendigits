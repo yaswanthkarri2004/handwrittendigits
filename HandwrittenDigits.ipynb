{
  "nbformat": 4,
  "nbformat_minor": 0,
  "metadata": {
    "colab": {
      "provenance": [],
      "include_colab_link": true
    },
    "kernelspec": {
      "name": "python3",
      "display_name": "Python 3"
    },
    "language_info": {
      "name": "python"
    }
  },
  "cells": [
    {
      "cell_type": "markdown",
      "metadata": {
        "id": "view-in-github",
        "colab_type": "text"
      },
      "source": [
        "<a href=\"https://colab.research.google.com/github/yaswanthkarri2004/handwrittendigits/blob/main/HandwrittenDigits.ipynb\" target=\"_parent\"><img src=\"https://colab.research.google.com/assets/colab-badge.svg\" alt=\"Open In Colab\"/></a>"
      ]
    },
    {
      "cell_type": "markdown",
      "source": [],
      "metadata": {
        "id": "LezsSBRYd6Th"
      }
    },
    {
      "cell_type": "markdown",
      "source": [
        "# **Title of Project**"
      ],
      "metadata": {
        "id": "dqZ-nhxiganh"
      }
    },
    {
      "cell_type": "markdown",
      "source": [
        "-------------"
      ],
      "metadata": {
        "id": "gScHkw6jjrLo"
      }
    },
    {
      "cell_type": "markdown",
      "source": [
        "# **The Handwritten Digit Recognition**"
      ],
      "metadata": {
        "id": "oMScaUdwUpX7"
      }
    },
    {
      "cell_type": "markdown",
      "source": [
        "## **Objective**"
      ],
      "metadata": {
        "id": "Xns_rCdhh-vZ"
      }
    },
    {
      "cell_type": "markdown",
      "source": [
        "This ML model is used to predict the given number return by the user."
      ],
      "metadata": {
        "id": "9sPvnFM1iI9l"
      }
    },
    {
      "cell_type": "markdown",
      "source": [
        "## **Data Source**"
      ],
      "metadata": {
        "id": "-Vbnt9CciKJP"
      }
    },
    {
      "cell_type": "markdown",
      "source": [
        "The digits dataset consists of 8x8 pixel images of digits. The images attribute of the dataset stores 8x8 arrays of grayscale values for each image. We will use these arrays to visualize the first 4 images. The taeget attribute of the dataset stores the digit each image represents."
      ],
      "metadata": {
        "id": "sGcv5WqQiNyl"
      }
    },
    {
      "cell_type": "markdown",
      "source": [
        "## **Import Library**"
      ],
      "metadata": {
        "id": "r7GrZzX0iTlV"
      }
    },
    {
      "cell_type": "code",
      "source": [
        "import pandas as pd"
      ],
      "metadata": {
        "id": "UkK6NH9DiW-X"
      },
      "execution_count": null,
      "outputs": []
    },
    {
      "cell_type": "code",
      "source": [
        "import numpy as np"
      ],
      "metadata": {
        "id": "laKIpu3fXXM0"
      },
      "execution_count": null,
      "outputs": []
    },
    {
      "cell_type": "code",
      "source": [
        "import matplotlib.pyplot as plt"
      ],
      "metadata": {
        "id": "JHtunxUzXXJS"
      },
      "execution_count": null,
      "outputs": []
    },
    {
      "cell_type": "markdown",
      "source": [
        "## **Import Data**"
      ],
      "metadata": {
        "id": "9lHPQj1XiOUc"
      }
    },
    {
      "cell_type": "code",
      "source": [
        "from sklearn.datasets import load_digits"
      ],
      "metadata": {
        "id": "zcU1fdnGho6M"
      },
      "execution_count": null,
      "outputs": []
    },
    {
      "cell_type": "code",
      "source": [
        "df = load_digits()"
      ],
      "metadata": {
        "id": "GEayWRK_YKSA"
      },
      "execution_count": null,
      "outputs": []
    },
    {
      "cell_type": "code",
      "source": [
        " _, axes = plt.subplots(nrows=1, ncols=4, figsize=(10, 3))\n",
        "for ax, image, label in zip(axes, df.images, df.target):\n",
        "    ax.set_axis_off()\n",
        "    ax.imshow(image, cmap=plt.cm.gray_r, interpolation=\"nearest\")\n",
        "    ax.set_title(\"Training: %i\" % label)"
      ],
      "metadata": {
        "id": "ayeIG7wIYKOm",
        "outputId": "8de36df1-de65-4cf1-e3e0-f540da63502c",
        "colab": {
          "base_uri": "https://localhost:8080/",
          "height": 227
        }
      },
      "execution_count": null,
      "outputs": [
        {
          "output_type": "display_data",
          "data": {
            "text/plain": [
              "<Figure size 1000x300 with 4 Axes>"
            ],
            "image/png": "[encoded data removed]"
          },
          "metadata": {}
        }
      ]
    },
    {
      "cell_type": "markdown",
      "source": [
        "## **Describe Data**"
      ],
      "metadata": {
        "id": "7PUnimBoiX-x"
      }
    },
    {
      "cell_type": "code",
      "source": [
        "df.images.shape"
      ],
      "metadata": {
        "id": "kG15arusiZ8Z",
        "outputId": "ed1ccb1f-5a1a-45e2-9e02-3c62dbbadb21",
        "colab": {
          "base_uri": "https://localhost:8080/"
        }
      },
      "execution_count": null,
      "outputs": [
        {
          "output_type": "execute_result",
          "data": {
            "text/plain": [
              "(1797, 8, 8)"
            ]
          },
          "metadata": {},
          "execution_count": 8
        }
      ]
    },
    {
      "cell_type": "code",
      "source": [
        "df.images[0]"
      ],
      "metadata": {
        "id": "sUIEEGdkZPLV",
        "outputId": "0135c667-bab5-4152-a2a8-e0a31f838632",
        "colab": {
          "base_uri": "https://localhost:8080/"
        }
      },
      "execution_count": null,
      "outputs": [
        {
          "output_type": "execute_result",
          "data": {
            "text/plain": [
              "array([[ 0.,  0.,  5., 13.,  9.,  1.,  0.,  0.],\n",
              "       [ 0.,  0., 13., 15., 10., 15.,  5.,  0.],\n",
              "       [ 0.,  3., 15.,  2.,  0., 11.,  8.,  0.],\n",
              "       [ 0.,  4., 12.,  0.,  0.,  8.,  8.,  0.],\n",
              "       [ 0.,  5.,  8.,  0.,  0.,  9.,  8.,  0.],\n",
              "       [ 0.,  4., 11.,  0.,  1., 12.,  7.,  0.],\n",
              "       [ 0.,  2., 14.,  5., 10., 12.,  0.,  0.],\n",
              "       [ 0.,  0.,  6., 13., 10.,  0.,  0.,  0.]])"
            ]
          },
          "metadata": {},
          "execution_count": 9
        }
      ]
    },
    {
      "cell_type": "code",
      "source": [
        "df.images[0].shape"
      ],
      "metadata": {
        "id": "qFE3CULhZVdc",
        "outputId": "1d52761e-1f47-4546-b75e-1e5276928ecd",
        "colab": {
          "base_uri": "https://localhost:8080/"
        }
      },
      "execution_count": null,
      "outputs": [
        {
          "output_type": "execute_result",
          "data": {
            "text/plain": [
              "(8, 8)"
            ]
          },
          "metadata": {},
          "execution_count": 10
        }
      ]
    },
    {
      "cell_type": "code",
      "source": [
        "len(df.images)"
      ],
      "metadata": {
        "id": "GR4oQinjZPH-",
        "outputId": "1cd9047d-c667-4077-f182-8fcf1f5e1fa5",
        "colab": {
          "base_uri": "https://localhost:8080/"
        }
      },
      "execution_count": null,
      "outputs": [
        {
          "output_type": "execute_result",
          "data": {
            "text/plain": [
              "1797"
            ]
          },
          "metadata": {},
          "execution_count": 11
        }
      ]
    },
    {
      "cell_type": "code",
      "source": [
        "n_samples = len(df.images)\n",
        "data = df.images.reshape((n_samples, -1))"
      ],
      "metadata": {
        "id": "WUYJwNe9Zrsi"
      },
      "execution_count": null,
      "outputs": []
    },
    {
      "cell_type": "code",
      "source": [
        "data[0]"
      ],
      "metadata": {
        "id": "BH7F62CcZrpC",
        "outputId": "4eda1ab4-a64e-4859-d67a-41c786b7e511",
        "colab": {
          "base_uri": "https://localhost:8080/"
        }
      },
      "execution_count": null,
      "outputs": [
        {
          "output_type": "execute_result",
          "data": {
            "text/plain": [
              "array([ 0.,  0.,  5., 13.,  9.,  1.,  0.,  0.,  0.,  0., 13., 15., 10.,\n",
              "       15.,  5.,  0.,  0.,  3., 15.,  2.,  0., 11.,  8.,  0.,  0.,  4.,\n",
              "       12.,  0.,  0.,  8.,  8.,  0.,  0.,  5.,  8.,  0.,  0.,  9.,  8.,\n",
              "        0.,  0.,  4., 11.,  0.,  1., 12.,  7.,  0.,  0.,  2., 14.,  5.,\n",
              "       10., 12.,  0.,  0.,  0.,  0.,  6., 13., 10.,  0.,  0.,  0.])"
            ]
          },
          "metadata": {},
          "execution_count": 13
        }
      ]
    },
    {
      "cell_type": "code",
      "source": [
        "data[0].shape"
      ],
      "metadata": {
        "id": "l_aScXI3Z903",
        "outputId": "b6042e3a-5551-431b-9fec-885e3fab5948",
        "colab": {
          "base_uri": "https://localhost:8080/"
        }
      },
      "execution_count": null,
      "outputs": [
        {
          "output_type": "execute_result",
          "data": {
            "text/plain": [
              "(64,)"
            ]
          },
          "metadata": {},
          "execution_count": 14
        }
      ]
    },
    {
      "cell_type": "code",
      "source": [
        "data.shape"
      ],
      "metadata": {
        "id": "4Ww_lNdxaESi",
        "outputId": "a4bfe2de-354d-4489-b667-a728bd3cddbc",
        "colab": {
          "base_uri": "https://localhost:8080/"
        }
      },
      "execution_count": null,
      "outputs": [
        {
          "output_type": "execute_result",
          "data": {
            "text/plain": [
              "(1797, 64)"
            ]
          },
          "metadata": {},
          "execution_count": 15
        }
      ]
    },
    {
      "cell_type": "code",
      "source": [
        "data.min(),data.max()"
      ],
      "metadata": {
        "id": "eAWFBQBZaLJY",
        "outputId": "46562e13-9bdd-4a58-bd9a-39ad8564cffb",
        "colab": {
          "base_uri": "https://localhost:8080/"
        }
      },
      "execution_count": null,
      "outputs": [
        {
          "output_type": "execute_result",
          "data": {
            "text/plain": [
              "(0.0, 16.0)"
            ]
          },
          "metadata": {},
          "execution_count": 16
        }
      ]
    },
    {
      "cell_type": "code",
      "source": [
        "data = data/16"
      ],
      "metadata": {
        "id": "7VeOdMCgaQ6b"
      },
      "execution_count": null,
      "outputs": []
    },
    {
      "cell_type": "code",
      "source": [
        "data.min()"
      ],
      "metadata": {
        "id": "rZBsHHRNab9X",
        "outputId": "47d73986-25f3-496e-de79-fe1ae002466d",
        "colab": {
          "base_uri": "https://localhost:8080/"
        }
      },
      "execution_count": null,
      "outputs": [
        {
          "output_type": "execute_result",
          "data": {
            "text/plain": [
              "0.0"
            ]
          },
          "metadata": {},
          "execution_count": 20
        }
      ]
    },
    {
      "cell_type": "code",
      "source": [
        "data.max()"
      ],
      "metadata": {
        "id": "tim3C4nXa0Vk",
        "outputId": "832c31be-f2cf-442d-ddf3-f457d39c793a",
        "colab": {
          "base_uri": "https://localhost:8080/"
        }
      },
      "execution_count": null,
      "outputs": [
        {
          "output_type": "execute_result",
          "data": {
            "text/plain": [
              "0.0625"
            ]
          },
          "metadata": {},
          "execution_count": 21
        }
      ]
    },
    {
      "cell_type": "code",
      "source": [
        "data[0]"
      ],
      "metadata": {
        "id": "Ib59_UFpa7_e",
        "outputId": "39e43485-2a1d-41cc-a49b-2ec1892b9acb",
        "colab": {
          "base_uri": "https://localhost:8080/"
        }
      },
      "execution_count": null,
      "outputs": [
        {
          "output_type": "execute_result",
          "data": {
            "text/plain": [
              "array([0.        , 0.        , 0.01953125, 0.05078125, 0.03515625,\n",
              "       0.00390625, 0.        , 0.        , 0.        , 0.        ,\n",
              "       0.05078125, 0.05859375, 0.0390625 , 0.05859375, 0.01953125,\n",
              "       0.        , 0.        , 0.01171875, 0.05859375, 0.0078125 ,\n",
              "       0.        , 0.04296875, 0.03125   , 0.        , 0.        ,\n",
              "       0.015625  , 0.046875  , 0.        , 0.        , 0.03125   ,\n",
              "       0.03125   , 0.        , 0.        , 0.01953125, 0.03125   ,\n",
              "       0.        , 0.        , 0.03515625, 0.03125   , 0.        ,\n",
              "       0.        , 0.015625  , 0.04296875, 0.        , 0.00390625,\n",
              "       0.046875  , 0.02734375, 0.        , 0.        , 0.0078125 ,\n",
              "       0.0546875 , 0.01953125, 0.0390625 , 0.046875  , 0.        ,\n",
              "       0.        , 0.        , 0.        , 0.0234375 , 0.05078125,\n",
              "       0.0390625 , 0.        , 0.        , 0.        ])"
            ]
          },
          "metadata": {},
          "execution_count": 22
        }
      ]
    },
    {
      "cell_type": "markdown",
      "source": [
        "## **Data Visualization**"
      ],
      "metadata": {
        "id": "oBGX4Ekniriz"
      }
    },
    {
      "cell_type": "code",
      "source": [],
      "metadata": {
        "id": "lW-OIRK0iuzO"
      },
      "execution_count": null,
      "outputs": []
    },
    {
      "cell_type": "markdown",
      "source": [
        "## **Data Preprocessing**"
      ],
      "metadata": {
        "id": "UqfyPOCYiiww"
      }
    },
    {
      "cell_type": "code",
      "source": [],
      "metadata": {
        "id": "3cyr3fbGin0A"
      },
      "execution_count": null,
      "outputs": []
    },
    {
      "cell_type": "code",
      "source": [],
      "metadata": {
        "id": "QBCakTuli57t"
      },
      "execution_count": null,
      "outputs": []
    },
    {
      "cell_type": "markdown",
      "source": [
        "## **Train Test Split**"
      ],
      "metadata": {
        "id": "90_0q_Pbi658"
      }
    },
    {
      "cell_type": "code",
      "source": [
        "from sklearn.model_selection import train_test_split\n",
        "X_train, X_test, y_train, y_test = train_test_split(data, df.target, test_size=0.3)\n",
        "X_train.shape, X_test.shape, y_train.shape, y_test.shape"
      ],
      "metadata": {
        "id": "u60YYaOFi-Dw",
        "outputId": "9231b652-5d56-4292-ece7-f35056a77d42",
        "colab": {
          "base_uri": "https://localhost:8080/"
        }
      },
      "execution_count": null,
      "outputs": [
        {
          "output_type": "execute_result",
          "data": {
            "text/plain": [
              "((1257, 64), (540, 64), (1257,), (540,))"
            ]
          },
          "metadata": {},
          "execution_count": 23
        }
      ]
    },
    {
      "cell_type": "markdown",
      "source": [
        "## **Random Forest Model**"
      ],
      "metadata": {
        "id": "cIhyseNria7W"
      }
    },
    {
      "cell_type": "code",
      "source": [
        "from sklearn.ensemble import RandomForestClassifier\n",
        "rf = RandomForestClassifier()"
      ],
      "metadata": {
        "id": "eDV6YVHgbenj"
      },
      "execution_count": null,
      "outputs": []
    },
    {
      "cell_type": "markdown",
      "source": [
        "## **Model Evaluation**"
      ],
      "metadata": {
        "id": "vhAwWfG0jFun"
      }
    },
    {
      "cell_type": "code",
      "source": [
        "rf.fit(X_train, y_train)"
      ],
      "metadata": {
        "id": "Toq58wpkjCw7",
        "outputId": "1b46ba56-391b-419b-c4bd-7a246dad2cb8",
        "colab": {
          "base_uri": "https://localhost:8080/",
          "height": 74
        }
      },
      "execution_count": null,
      "outputs": [
        {
          "output_type": "execute_result",
          "data": {
            "text/plain": [
              "RandomForestClassifier()"
            ],
            "text/html": [
              "<style>#sk-container-id-1 {color: black;background-color: white;}#sk-container-id-1 pre{padding: 0;}#sk-container-id-1 div.sk-toggleable {background-color: white;}#sk-container-id-1 label.sk-toggleable__label {cursor: pointer;display: block;width: 100%;margin-bottom: 0;padding: 0.3em;box-sizing: border-box;text-align: center;}#sk-container-id-1 label.sk-toggleable__label-arrow:before {content: \"▸\";float: left;margin-right: 0.25em;color: #696969;}#sk-container-id-1 label.sk-toggleable__label-arrow:hover:before {color: black;}#sk-container-id-1 div.sk-estimator:hover label.sk-toggleable__label-arrow:before {color: black;}#sk-container-id-1 div.sk-toggleable__content {max-height: 0;max-width: 0;overflow: hidden;text-align: left;background-color: #f0f8ff;}#sk-container-id-1 div.sk-toggleable__content pre {margin: 0.2em;color: black;border-radius: 0.25em;background-color: #f0f8ff;}#sk-container-id-1 input.sk-toggleable__control:checked~div.sk-toggleable__content {max-height: 200px;max-width: 100%;overflow: auto;}#sk-container-id-1 input.sk-toggleable__control:checked~label.sk-toggleable__label-arrow:before {content: \"▾\";}#sk-container-id-1 div.sk-estimator input.sk-toggleable__control:checked~label.sk-toggleable__label {background-color: #d4ebff;}#sk-container-id-1 div.sk-label input.sk-toggleable__control:checked~label.sk-toggleable__label {background-color: #d4ebff;}#sk-container-id-1 input.sk-hidden--visually {border: 0;clip: rect(1px 1px 1px 1px);clip: rect(1px, 1px, 1px, 1px);height: 1px;margin: -1px;overflow: hidden;padding: 0;position: absolute;width: 1px;}#sk-container-id-1 div.sk-estimator {font-family: monospace;background-color: #f0f8ff;border: 1px dotted black;border-radius: 0.25em;box-sizing: border-box;margin-bottom: 0.5em;}#sk-container-id-1 div.sk-estimator:hover {background-color: #d4ebff;}#sk-container-id-1 div.sk-parallel-item::after {content: \"\";width: 100%;border-bottom: 1px solid gray;flex-grow: 1;}#sk-container-id-1 div.sk-label:hover label.sk-toggleable__label {background-color: #d4ebff;}#sk-container-id-1 div.sk-serial::before {content: \"\";position: absolute;border-left: 1px solid gray;box-sizing: border-box;top: 0;bottom: 0;left: 50%;z-index: 0;}#sk-container-id-1 div.sk-serial {display: flex;flex-direction: column;align-items: center;background-color: white;padding-right: 0.2em;padding-left: 0.2em;position: relative;}#sk-container-id-1 div.sk-item {position: relative;z-index: 1;}#sk-container-id-1 div.sk-parallel {display: flex;align-items: stretch;justify-content: center;background-color: white;position: relative;}#sk-container-id-1 div.sk-item::before, #sk-container-id-1 div.sk-parallel-item::before {content: \"\";position: absolute;border-left: 1px solid gray;box-sizing: border-box;top: 0;bottom: 0;left: 50%;z-index: -1;}#sk-container-id-1 div.sk-parallel-item {display: flex;flex-direction: column;z-index: 1;position: relative;background-color: white;}#sk-container-id-1 div.sk-parallel-item:first-child::after {align-self: flex-end;width: 50%;}#sk-container-id-1 div.sk-parallel-item:last-child::after {align-self: flex-start;width: 50%;}#sk-container-id-1 div.sk-parallel-item:only-child::after {width: 0;}#sk-container-id-1 div.sk-dashed-wrapped {border: 1px dashed gray;margin: 0 0.4em 0.5em 0.4em;box-sizing: border-box;padding-bottom: 0.4em;background-color: white;}#sk-container-id-1 div.sk-label label {font-family: monospace;font-weight: bold;display: inline-block;line-height: 1.2em;}#sk-container-id-1 div.sk-label-container {text-align: center;}#sk-container-id-1 div.sk-container {/* jupyter's `normalize.less` sets `[hidden] { display: none; }` but bootstrap.min.css set `[hidden] { display: none !important; }` so we also need the `!important` here to be able to override the default hidden behavior on the sphinx rendered scikit-learn.org. See: https://github.com/scikit-learn/scikit-learn/issues/21755 */display: inline-block !important;position: relative;}#sk-container-id-1 div.sk-text-repr-fallback {display: none;}</style><div id=\"sk-container-id-1\" class=\"sk-top-container\"><div class=\"sk-text-repr-fallback\"><pre>RandomForestClassifier()</pre><b>In a Jupyter environment, please rerun this cell to show the HTML representation or trust the notebook. <br />On GitHub, the HTML representation is unable to render, please try loading this page with nbviewer.org.</b></div><div class=\"sk-container\" hidden><div class=\"sk-item\"><div class=\"sk-estimator sk-toggleable\"><input class=\"sk-toggleable__control sk-hidden--visually\" id=\"sk-estimator-id-1\" type=\"checkbox\" checked><label for=\"sk-estimator-id-1\" class=\"sk-toggleable__label sk-toggleable__label-arrow\">RandomForestClassifier</label><div class=\"sk-toggleable__content\"><pre>RandomForestClassifier()</pre></div></div></div></div></div>"
            ]
          },
          "metadata": {},
          "execution_count": 25
        }
      ]
    },
    {
      "cell_type": "code",
      "source": [],
      "metadata": {
        "id": "lND3jJj_jhx4"
      },
      "execution_count": null,
      "outputs": []
    },
    {
      "cell_type": "markdown",
      "source": [
        "## **Prediction**"
      ],
      "metadata": {
        "id": "8AzwG7oLjiQI"
      }
    },
    {
      "cell_type": "code",
      "source": [
        "y_pred = rf.predict(X_test)\n",
        "y_pred"
      ],
      "metadata": {
        "id": "JLebGzDJjknA",
        "outputId": "fd035ae6-6809-4262-c321-186fbf6b7e05",
        "colab": {
          "base_uri": "https://localhost:8080/"
        }
      },
      "execution_count": null,
      "outputs": [
        {
          "output_type": "execute_result",
          "data": {
            "text/plain": [
              "array([8, 7, 4, 2, 5, 7, 9, 3, 0, 8, 7, 0, 7, 3, 5, 3, 1, 3, 5, 2, 5, 6,\n",
              "       2, 3, 9, 4, 4, 2, 0, 3, 8, 3, 6, 2, 3, 1, 5, 3, 8, 4, 2, 2, 6, 8,\n",
              "       6, 9, 8, 2, 8, 0, 3, 2, 7, 4, 2, 2, 2, 4, 1, 5, 0, 2, 7, 6, 7, 3,\n",
              "       0, 6, 2, 5, 9, 4, 7, 9, 0, 3, 8, 4, 0, 6, 1, 5, 0, 4, 5, 0, 3, 5,\n",
              "       8, 6, 0, 7, 7, 4, 7, 4, 3, 1, 6, 0, 2, 5, 0, 8, 8, 9, 1, 9, 2, 1,\n",
              "       3, 3, 2, 5, 8, 8, 3, 7, 3, 7, 5, 1, 6, 6, 5, 8, 7, 7, 7, 5, 0, 9,\n",
              "       9, 2, 4, 9, 9, 9, 8, 0, 1, 7, 9, 2, 2, 9, 7, 5, 6, 6, 4, 5, 0, 0,\n",
              "       8, 4, 0, 0, 5, 3, 5, 1, 9, 3, 5, 6, 4, 9, 0, 5, 1, 3, 7, 6, 8, 2,\n",
              "       8, 8, 6, 7, 4, 1, 5, 8, 1, 2, 5, 8, 2, 8, 3, 5, 7, 8, 2, 1, 1, 4,\n",
              "       3, 9, 4, 8, 8, 5, 6, 2, 0, 1, 3, 0, 6, 1, 0, 1, 9, 1, 4, 9, 7, 1,\n",
              "       7, 5, 4, 6, 6, 4, 9, 1, 2, 5, 5, 2, 7, 1, 8, 1, 9, 4, 7, 1, 5, 6,\n",
              "       5, 7, 3, 3, 3, 6, 5, 5, 6, 4, 0, 8, 5, 7, 7, 2, 4, 5, 2, 6, 3, 1,\n",
              "       9, 8, 0, 8, 1, 4, 6, 5, 0, 0, 0, 2, 2, 4, 3, 5, 8, 8, 2, 9, 8, 6,\n",
              "       1, 1, 6, 2, 4, 4, 7, 6, 9, 2, 1, 3, 9, 0, 7, 9, 5, 6, 5, 4, 4, 5,\n",
              "       4, 5, 4, 4, 6, 8, 9, 9, 0, 6, 9, 0, 6, 9, 7, 1, 7, 6, 8, 9, 2, 7,\n",
              "       4, 1, 2, 6, 3, 0, 8, 2, 2, 1, 6, 5, 0, 3, 9, 1, 5, 9, 9, 8, 4, 3,\n",
              "       6, 5, 3, 2, 5, 1, 2, 4, 3, 0, 6, 3, 8, 6, 3, 5, 9, 1, 8, 4, 3, 3,\n",
              "       7, 8, 5, 2, 8, 4, 4, 3, 5, 3, 1, 9, 1, 9, 8, 7, 0, 7, 4, 1, 1, 5,\n",
              "       4, 5, 0, 6, 7, 0, 5, 0, 5, 3, 1, 2, 0, 2, 8, 5, 4, 9, 9, 4, 6, 1,\n",
              "       8, 3, 6, 6, 6, 6, 0, 3, 0, 6, 6, 3, 4, 1, 3, 9, 4, 8, 0, 9, 5, 3,\n",
              "       1, 5, 1, 8, 7, 9, 9, 6, 1, 7, 6, 0, 2, 0, 8, 8, 1, 4, 3, 6, 9, 6,\n",
              "       2, 7, 9, 1, 7, 8, 9, 3, 3, 2, 4, 6, 7, 2, 8, 9, 1, 3, 4, 2, 7, 0,\n",
              "       1, 1, 8, 6, 6, 6, 2, 2, 1, 1, 9, 7, 4, 9, 9, 8, 2, 5, 5, 5, 8, 3,\n",
              "       4, 3, 7, 6, 4, 7, 1, 6, 6, 1, 7, 2, 5, 4, 7, 2, 8, 6, 8, 2, 3, 6,\n",
              "       4, 7, 3, 5, 0, 7, 4, 7, 9, 7, 4, 7])"
            ]
          },
          "metadata": {},
          "execution_count": 28
        }
      ]
    },
    {
      "cell_type": "markdown",
      "source": [
        "# Model Accuracy\n",
        "\n",
        "> Add blockquote\n",
        "\n"
      ],
      "metadata": {
        "id": "pkYPtUaqcfub"
      }
    },
    {
      "cell_type": "code",
      "source": [
        "from sklearn.metrics import confusion_matrix, classification_report\n",
        "confusion_matrix(y_test, y_pred)"
      ],
      "metadata": {
        "id": "cbTj28wecfSM",
        "outputId": "ee08bf75-d9ef-4f48-c3d9-365263cff184",
        "colab": {
          "base_uri": "https://localhost:8080/"
        }
      },
      "execution_count": null,
      "outputs": [
        {
          "output_type": "execute_result",
          "data": {
            "text/plain": [
              "array([[45,  0,  0,  0,  0,  0,  0,  0,  0,  0],\n",
              "       [ 0, 50,  0,  0,  0,  0,  0,  0,  0,  0],\n",
              "       [ 0,  0, 54,  0,  0,  0,  0,  0,  0,  0],\n",
              "       [ 0,  0,  0, 55,  0,  0,  0,  0,  0,  1],\n",
              "       [ 0,  0,  0,  0, 53,  0,  0,  0,  0,  1],\n",
              "       [ 0,  0,  0,  0,  1, 57,  1,  0,  1,  1],\n",
              "       [ 1,  2,  0,  0,  0,  1, 58,  0,  0,  0],\n",
              "       [ 0,  0,  0,  0,  0,  0,  0, 53,  0,  0],\n",
              "       [ 0,  2,  0,  0,  1,  1,  0,  0, 51,  0],\n",
              "       [ 0,  0,  0,  0,  0,  0,  0,  0,  2, 48]])"
            ]
          },
          "metadata": {},
          "execution_count": 29
        }
      ]
    },
    {
      "cell_type": "code",
      "source": [
        "print(classification_report(y_test, y_pred))"
      ],
      "metadata": {
        "id": "yTq0ywCacxJw",
        "outputId": "bb1f46b8-902a-401b-c475-62a0d5770ed1",
        "colab": {
          "base_uri": "https://localhost:8080/"
        }
      },
      "execution_count": null,
      "outputs": [
        {
          "output_type": "stream",
          "name": "stdout",
          "text": [
            "              precision    recall  f1-score   support\n",
            "\n",
            "           0       0.98      1.00      0.99        45\n",
            "           1       0.93      1.00      0.96        50\n",
            "           2       1.00      1.00      1.00        54\n",
            "           3       1.00      0.98      0.99        56\n",
            "           4       0.96      0.98      0.97        54\n",
            "           5       0.97      0.93      0.95        61\n",
            "           6       0.98      0.94      0.96        62\n",
            "           7       1.00      1.00      1.00        53\n",
            "           8       0.94      0.93      0.94        55\n",
            "           9       0.94      0.96      0.95        50\n",
            "\n",
            "    accuracy                           0.97       540\n",
            "   macro avg       0.97      0.97      0.97       540\n",
            "weighted avg       0.97      0.97      0.97       540\n",
            "\n"
          ]
        }
      ]
    },
    {
      "cell_type": "markdown",
      "source": [],
      "metadata": {
        "id": "Ybi8FR9Kjv00"
      }
    }
  ]
}